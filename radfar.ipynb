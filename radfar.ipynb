{
 "metadata": {
  "language_info": {
   "codemirror_mode": {
    "name": "ipython",
    "version": 3
   },
   "file_extension": ".py",
   "mimetype": "text/x-python",
   "name": "python",
   "nbconvert_exporter": "python",
   "pygments_lexer": "ipython3",
   "version": "3.7.3-final"
  },
  "orig_nbformat": 2,
  "kernelspec": {
   "name": "python3",
   "display_name": "Python 3"
  }
 },
 "nbformat": 4,
 "nbformat_minor": 2,
 "cells": [
  {
   "cell_type": "code",
   "execution_count": 211,
   "metadata": {},
   "outputs": [],
   "source": [
    "import numpy as np\n",
    "import pandas as pd\n",
    "import matplotlib.pyplot as plt\n",
    "from sklearn.svm import SVC\n",
    "from sklearn.ensemble import RandomForestClassifier\n",
    "pd.set_option(\"display.max_columns\", 100)\n",
    "from sklearn.decomposition import PCA\n",
    "from sklearn.cluster import DBSCAN\n",
    "from sklearn.metrics import roc_auc_score"
   ]
  },
  {
   "cell_type": "code",
   "execution_count": 212,
   "metadata": {},
   "outputs": [],
   "source": [
    "df = pd.read_csv('data/kddcup.data', index_col=False, header=None)"
   ]
  },
  {
   "cell_type": "code",
   "execution_count": 213,
   "metadata": {},
   "outputs": [
    {
     "output_type": "execute_result",
     "data": {
      "text/plain": "   0    1     2   3    4      5   6   7   8   9   10  11  12  13  14  15  16  \\\n0   0  tcp  http  SF  215  45076   0   0   0   0   0   1   0   0   0   0   0   \n1   0  tcp  http  SF  162   4528   0   0   0   0   0   1   0   0   0   0   0   \n2   0  tcp  http  SF  236   1228   0   0   0   0   0   1   0   0   0   0   0   \n3   0  tcp  http  SF  233   2032   0   0   0   0   0   1   0   0   0   0   0   \n4   0  tcp  http  SF  239    486   0   0   0   0   0   1   0   0   0   0   0   \n\n   17  18  19  20  21  22  23   24   25   26   27   28   29   30  31  32   33  \\\n0   0   0   0   0   0   1   1  0.0  0.0  0.0  0.0  1.0  0.0  0.0   0   0  0.0   \n1   0   0   0   0   0   2   2  0.0  0.0  0.0  0.0  1.0  0.0  0.0   1   1  1.0   \n2   0   0   0   0   0   1   1  0.0  0.0  0.0  0.0  1.0  0.0  0.0   2   2  1.0   \n3   0   0   0   0   0   2   2  0.0  0.0  0.0  0.0  1.0  0.0  0.0   3   3  1.0   \n4   0   0   0   0   0   3   3  0.0  0.0  0.0  0.0  1.0  0.0  0.0   4   4  1.0   \n\n    34    35   36   37   38   39   40       41  \n0  0.0  0.00  0.0  0.0  0.0  0.0  0.0  normal.  \n1  0.0  1.00  0.0  0.0  0.0  0.0  0.0  normal.  \n2  0.0  0.50  0.0  0.0  0.0  0.0  0.0  normal.  \n3  0.0  0.33  0.0  0.0  0.0  0.0  0.0  normal.  \n4  0.0  0.25  0.0  0.0  0.0  0.0  0.0  normal.  ",
      "text/html": "<div>\n<style scoped>\n    .dataframe tbody tr th:only-of-type {\n        vertical-align: middle;\n    }\n\n    .dataframe tbody tr th {\n        vertical-align: top;\n    }\n\n    .dataframe thead th {\n        text-align: right;\n    }\n</style>\n<table border=\"1\" class=\"dataframe\">\n  <thead>\n    <tr style=\"text-align: right;\">\n      <th></th>\n      <th>0</th>\n      <th>1</th>\n      <th>2</th>\n      <th>3</th>\n      <th>4</th>\n      <th>5</th>\n      <th>6</th>\n      <th>7</th>\n      <th>8</th>\n      <th>9</th>\n      <th>10</th>\n      <th>11</th>\n      <th>12</th>\n      <th>13</th>\n      <th>14</th>\n      <th>15</th>\n      <th>16</th>\n      <th>17</th>\n      <th>18</th>\n      <th>19</th>\n      <th>20</th>\n      <th>21</th>\n      <th>22</th>\n      <th>23</th>\n      <th>24</th>\n      <th>25</th>\n      <th>26</th>\n      <th>27</th>\n      <th>28</th>\n      <th>29</th>\n      <th>30</th>\n      <th>31</th>\n      <th>32</th>\n      <th>33</th>\n      <th>34</th>\n      <th>35</th>\n      <th>36</th>\n      <th>37</th>\n      <th>38</th>\n      <th>39</th>\n      <th>40</th>\n      <th>41</th>\n    </tr>\n  </thead>\n  <tbody>\n    <tr>\n      <th>0</th>\n      <td>0</td>\n      <td>tcp</td>\n      <td>http</td>\n      <td>SF</td>\n      <td>215</td>\n      <td>45076</td>\n      <td>0</td>\n      <td>0</td>\n      <td>0</td>\n      <td>0</td>\n      <td>0</td>\n      <td>1</td>\n      <td>0</td>\n      <td>0</td>\n      <td>0</td>\n      <td>0</td>\n      <td>0</td>\n      <td>0</td>\n      <td>0</td>\n      <td>0</td>\n      <td>0</td>\n      <td>0</td>\n      <td>1</td>\n      <td>1</td>\n      <td>0.0</td>\n      <td>0.0</td>\n      <td>0.0</td>\n      <td>0.0</td>\n      <td>1.0</td>\n      <td>0.0</td>\n      <td>0.0</td>\n      <td>0</td>\n      <td>0</td>\n      <td>0.0</td>\n      <td>0.0</td>\n      <td>0.00</td>\n      <td>0.0</td>\n      <td>0.0</td>\n      <td>0.0</td>\n      <td>0.0</td>\n      <td>0.0</td>\n      <td>normal.</td>\n    </tr>\n    <tr>\n      <th>1</th>\n      <td>0</td>\n      <td>tcp</td>\n      <td>http</td>\n      <td>SF</td>\n      <td>162</td>\n      <td>4528</td>\n      <td>0</td>\n      <td>0</td>\n      <td>0</td>\n      <td>0</td>\n      <td>0</td>\n      <td>1</td>\n      <td>0</td>\n      <td>0</td>\n      <td>0</td>\n      <td>0</td>\n      <td>0</td>\n      <td>0</td>\n      <td>0</td>\n      <td>0</td>\n      <td>0</td>\n      <td>0</td>\n      <td>2</td>\n      <td>2</td>\n      <td>0.0</td>\n      <td>0.0</td>\n      <td>0.0</td>\n      <td>0.0</td>\n      <td>1.0</td>\n      <td>0.0</td>\n      <td>0.0</td>\n      <td>1</td>\n      <td>1</td>\n      <td>1.0</td>\n      <td>0.0</td>\n      <td>1.00</td>\n      <td>0.0</td>\n      <td>0.0</td>\n      <td>0.0</td>\n      <td>0.0</td>\n      <td>0.0</td>\n      <td>normal.</td>\n    </tr>\n    <tr>\n      <th>2</th>\n      <td>0</td>\n      <td>tcp</td>\n      <td>http</td>\n      <td>SF</td>\n      <td>236</td>\n      <td>1228</td>\n      <td>0</td>\n      <td>0</td>\n      <td>0</td>\n      <td>0</td>\n      <td>0</td>\n      <td>1</td>\n      <td>0</td>\n      <td>0</td>\n      <td>0</td>\n      <td>0</td>\n      <td>0</td>\n      <td>0</td>\n      <td>0</td>\n      <td>0</td>\n      <td>0</td>\n      <td>0</td>\n      <td>1</td>\n      <td>1</td>\n      <td>0.0</td>\n      <td>0.0</td>\n      <td>0.0</td>\n      <td>0.0</td>\n      <td>1.0</td>\n      <td>0.0</td>\n      <td>0.0</td>\n      <td>2</td>\n      <td>2</td>\n      <td>1.0</td>\n      <td>0.0</td>\n      <td>0.50</td>\n      <td>0.0</td>\n      <td>0.0</td>\n      <td>0.0</td>\n      <td>0.0</td>\n      <td>0.0</td>\n      <td>normal.</td>\n    </tr>\n    <tr>\n      <th>3</th>\n      <td>0</td>\n      <td>tcp</td>\n      <td>http</td>\n      <td>SF</td>\n      <td>233</td>\n      <td>2032</td>\n      <td>0</td>\n      <td>0</td>\n      <td>0</td>\n      <td>0</td>\n      <td>0</td>\n      <td>1</td>\n      <td>0</td>\n      <td>0</td>\n      <td>0</td>\n      <td>0</td>\n      <td>0</td>\n      <td>0</td>\n      <td>0</td>\n      <td>0</td>\n      <td>0</td>\n      <td>0</td>\n      <td>2</td>\n      <td>2</td>\n      <td>0.0</td>\n      <td>0.0</td>\n      <td>0.0</td>\n      <td>0.0</td>\n      <td>1.0</td>\n      <td>0.0</td>\n      <td>0.0</td>\n      <td>3</td>\n      <td>3</td>\n      <td>1.0</td>\n      <td>0.0</td>\n      <td>0.33</td>\n      <td>0.0</td>\n      <td>0.0</td>\n      <td>0.0</td>\n      <td>0.0</td>\n      <td>0.0</td>\n      <td>normal.</td>\n    </tr>\n    <tr>\n      <th>4</th>\n      <td>0</td>\n      <td>tcp</td>\n      <td>http</td>\n      <td>SF</td>\n      <td>239</td>\n      <td>486</td>\n      <td>0</td>\n      <td>0</td>\n      <td>0</td>\n      <td>0</td>\n      <td>0</td>\n      <td>1</td>\n      <td>0</td>\n      <td>0</td>\n      <td>0</td>\n      <td>0</td>\n      <td>0</td>\n      <td>0</td>\n      <td>0</td>\n      <td>0</td>\n      <td>0</td>\n      <td>0</td>\n      <td>3</td>\n      <td>3</td>\n      <td>0.0</td>\n      <td>0.0</td>\n      <td>0.0</td>\n      <td>0.0</td>\n      <td>1.0</td>\n      <td>0.0</td>\n      <td>0.0</td>\n      <td>4</td>\n      <td>4</td>\n      <td>1.0</td>\n      <td>0.0</td>\n      <td>0.25</td>\n      <td>0.0</td>\n      <td>0.0</td>\n      <td>0.0</td>\n      <td>0.0</td>\n      <td>0.0</td>\n      <td>normal.</td>\n    </tr>\n  </tbody>\n</table>\n</div>"
     },
     "metadata": {},
     "execution_count": 213
    }
   ],
   "source": [
    "df.head()"
   ]
  },
  {
   "cell_type": "code",
   "execution_count": 214,
   "metadata": {},
   "outputs": [],
   "source": [
    "df = pd.get_dummies(df, columns=[1, 2, 3]).drop(0, axis=1)"
   ]
  },
  {
   "cell_type": "code",
   "execution_count": 215,
   "metadata": {},
   "outputs": [
    {
     "output_type": "execute_result",
     "data": {
      "text/plain": "     4      5  6  7  8  9  10  11  12  13  14  15  16  17  18  19  20  21  22  \\\n0  215  45076  0  0  0  0   0   1   0   0   0   0   0   0   0   0   0   0   1   \n1  162   4528  0  0  0  0   0   1   0   0   0   0   0   0   0   0   0   0   2   \n2  236   1228  0  0  0  0   0   1   0   0   0   0   0   0   0   0   0   0   1   \n3  233   2032  0  0  0  0   0   1   0   0   0   0   0   0   0   0   0   0   2   \n4  239    486  0  0  0  0   0   1   0   0   0   0   0   0   0   0   0   0   3   \n\n   23   24   25   26   27   28   29   30  31  32   33   34    35   36   37  \\\n0   1  0.0  0.0  0.0  0.0  1.0  0.0  0.0   0   0  0.0  0.0  0.00  0.0  0.0   \n1   2  0.0  0.0  0.0  0.0  1.0  0.0  0.0   1   1  1.0  0.0  1.00  0.0  0.0   \n2   1  0.0  0.0  0.0  0.0  1.0  0.0  0.0   2   2  1.0  0.0  0.50  0.0  0.0   \n3   2  0.0  0.0  0.0  0.0  1.0  0.0  0.0   3   3  1.0  0.0  0.33  0.0  0.0   \n4   3  0.0  0.0  0.0  0.0  1.0  0.0  0.0   4   4  1.0  0.0  0.25  0.0  0.0   \n\n    38   39   40       41  1_icmp  1_tcp  1_udp  2_IRC  2_X11  2_Z39_50  \\\n0  0.0  0.0  0.0  normal.       0      1      0      0      0         0   \n1  0.0  0.0  0.0  normal.       0      1      0      0      0         0   \n2  0.0  0.0  0.0  normal.       0      1      0      0      0         0   \n3  0.0  0.0  0.0  normal.       0      1      0      0      0         0   \n4  0.0  0.0  0.0  normal.       0      1      0      0      0         0   \n\n   2_aol  2_auth  2_bgp  2_courier  2_csnet_ns  2_ctf  ...  2_kshell  2_ldap  \\\n0      0       0      0          0           0      0  ...         0       0   \n1      0       0      0          0           0      0  ...         0       0   \n2      0       0      0          0           0      0  ...         0       0   \n3      0       0      0          0           0      0  ...         0       0   \n4      0       0      0          0           0      0  ...         0       0   \n\n   2_link  2_login  2_mtp  2_name  2_netbios_dgm  2_netbios_ns  2_netbios_ssn  \\\n0       0        0      0       0              0             0              0   \n1       0        0      0       0              0             0              0   \n2       0        0      0       0              0             0              0   \n3       0        0      0       0              0             0              0   \n4       0        0      0       0              0             0              0   \n\n   2_netstat  2_nnsp  2_nntp  2_ntp_u  2_other  2_pm_dump  2_pop_2  2_pop_3  \\\n0          0       0       0        0        0          0        0        0   \n1          0       0       0        0        0          0        0        0   \n2          0       0       0        0        0          0        0        0   \n3          0       0       0        0        0          0        0        0   \n4          0       0       0        0        0          0        0        0   \n\n   2_printer  2_private  2_red_i  2_remote_job  2_rje  2_shell  2_smtp  \\\n0          0          0        0             0      0        0       0   \n1          0          0        0             0      0        0       0   \n2          0          0        0             0      0        0       0   \n3          0          0        0             0      0        0       0   \n4          0          0        0             0      0        0       0   \n\n   2_sql_net  2_ssh  2_sunrpc  2_supdup  2_systat  2_telnet  2_tftp_u  \\\n0          0      0         0         0         0         0         0   \n1          0      0         0         0         0         0         0   \n2          0      0         0         0         0         0         0   \n3          0      0         0         0         0         0         0   \n4          0      0         0         0         0         0         0   \n\n   2_tim_i  2_time  2_urh_i  2_urp_i  2_uucp  2_uucp_path  2_vmnet  2_whois  \\\n0        0       0        0        0       0            0        0        0   \n1        0       0        0        0       0            0        0        0   \n2        0       0        0        0       0            0        0        0   \n3        0       0        0        0       0            0        0        0   \n4        0       0        0        0       0            0        0        0   \n\n   3_OTH  3_REJ  3_RSTO  3_RSTOS0  3_RSTR  3_S0  3_S1  3_S2  3_S3  3_SF  3_SH  \n0      0      0       0         0       0     0     0     0     0     1     0  \n1      0      0       0         0       0     0     0     0     0     1     0  \n2      0      0       0         0       0     0     0     0     0     1     0  \n3      0      0       0         0       0     0     0     0     0     1     0  \n4      0      0       0         0       0     0     0     0     0     1     0  \n\n[5 rows x 122 columns]",
      "text/html": "<div>\n<style scoped>\n    .dataframe tbody tr th:only-of-type {\n        vertical-align: middle;\n    }\n\n    .dataframe tbody tr th {\n        vertical-align: top;\n    }\n\n    .dataframe thead th {\n        text-align: right;\n    }\n</style>\n<table border=\"1\" class=\"dataframe\">\n  <thead>\n    <tr style=\"text-align: right;\">\n      <th></th>\n      <th>4</th>\n      <th>5</th>\n      <th>6</th>\n      <th>7</th>\n      <th>8</th>\n      <th>9</th>\n      <th>10</th>\n      <th>11</th>\n      <th>12</th>\n      <th>13</th>\n      <th>14</th>\n      <th>15</th>\n      <th>16</th>\n      <th>17</th>\n      <th>18</th>\n      <th>19</th>\n      <th>20</th>\n      <th>21</th>\n      <th>22</th>\n      <th>23</th>\n      <th>24</th>\n      <th>25</th>\n      <th>26</th>\n      <th>27</th>\n      <th>28</th>\n      <th>29</th>\n      <th>30</th>\n      <th>31</th>\n      <th>32</th>\n      <th>33</th>\n      <th>34</th>\n      <th>35</th>\n      <th>36</th>\n      <th>37</th>\n      <th>38</th>\n      <th>39</th>\n      <th>40</th>\n      <th>41</th>\n      <th>1_icmp</th>\n      <th>1_tcp</th>\n      <th>1_udp</th>\n      <th>2_IRC</th>\n      <th>2_X11</th>\n      <th>2_Z39_50</th>\n      <th>2_aol</th>\n      <th>2_auth</th>\n      <th>2_bgp</th>\n      <th>2_courier</th>\n      <th>2_csnet_ns</th>\n      <th>2_ctf</th>\n      <th>...</th>\n      <th>2_kshell</th>\n      <th>2_ldap</th>\n      <th>2_link</th>\n      <th>2_login</th>\n      <th>2_mtp</th>\n      <th>2_name</th>\n      <th>2_netbios_dgm</th>\n      <th>2_netbios_ns</th>\n      <th>2_netbios_ssn</th>\n      <th>2_netstat</th>\n      <th>2_nnsp</th>\n      <th>2_nntp</th>\n      <th>2_ntp_u</th>\n      <th>2_other</th>\n      <th>2_pm_dump</th>\n      <th>2_pop_2</th>\n      <th>2_pop_3</th>\n      <th>2_printer</th>\n      <th>2_private</th>\n      <th>2_red_i</th>\n      <th>2_remote_job</th>\n      <th>2_rje</th>\n      <th>2_shell</th>\n      <th>2_smtp</th>\n      <th>2_sql_net</th>\n      <th>2_ssh</th>\n      <th>2_sunrpc</th>\n      <th>2_supdup</th>\n      <th>2_systat</th>\n      <th>2_telnet</th>\n      <th>2_tftp_u</th>\n      <th>2_tim_i</th>\n      <th>2_time</th>\n      <th>2_urh_i</th>\n      <th>2_urp_i</th>\n      <th>2_uucp</th>\n      <th>2_uucp_path</th>\n      <th>2_vmnet</th>\n      <th>2_whois</th>\n      <th>3_OTH</th>\n      <th>3_REJ</th>\n      <th>3_RSTO</th>\n      <th>3_RSTOS0</th>\n      <th>3_RSTR</th>\n      <th>3_S0</th>\n      <th>3_S1</th>\n      <th>3_S2</th>\n      <th>3_S3</th>\n      <th>3_SF</th>\n      <th>3_SH</th>\n    </tr>\n  </thead>\n  <tbody>\n    <tr>\n      <th>0</th>\n      <td>215</td>\n      <td>45076</td>\n      <td>0</td>\n      <td>0</td>\n      <td>0</td>\n      <td>0</td>\n      <td>0</td>\n      <td>1</td>\n      <td>0</td>\n      <td>0</td>\n      <td>0</td>\n      <td>0</td>\n      <td>0</td>\n      <td>0</td>\n      <td>0</td>\n      <td>0</td>\n      <td>0</td>\n      <td>0</td>\n      <td>1</td>\n      <td>1</td>\n      <td>0.0</td>\n      <td>0.0</td>\n      <td>0.0</td>\n      <td>0.0</td>\n      <td>1.0</td>\n      <td>0.0</td>\n      <td>0.0</td>\n      <td>0</td>\n      <td>0</td>\n      <td>0.0</td>\n      <td>0.0</td>\n      <td>0.00</td>\n      <td>0.0</td>\n      <td>0.0</td>\n      <td>0.0</td>\n      <td>0.0</td>\n      <td>0.0</td>\n      <td>normal.</td>\n      <td>0</td>\n      <td>1</td>\n      <td>0</td>\n      <td>0</td>\n      <td>0</td>\n      <td>0</td>\n      <td>0</td>\n      <td>0</td>\n      <td>0</td>\n      <td>0</td>\n      <td>0</td>\n      <td>0</td>\n      <td>...</td>\n      <td>0</td>\n      <td>0</td>\n      <td>0</td>\n      <td>0</td>\n      <td>0</td>\n      <td>0</td>\n      <td>0</td>\n      <td>0</td>\n      <td>0</td>\n      <td>0</td>\n      <td>0</td>\n      <td>0</td>\n      <td>0</td>\n      <td>0</td>\n      <td>0</td>\n      <td>0</td>\n      <td>0</td>\n      <td>0</td>\n      <td>0</td>\n      <td>0</td>\n      <td>0</td>\n      <td>0</td>\n      <td>0</td>\n      <td>0</td>\n      <td>0</td>\n      <td>0</td>\n      <td>0</td>\n      <td>0</td>\n      <td>0</td>\n      <td>0</td>\n      <td>0</td>\n      <td>0</td>\n      <td>0</td>\n      <td>0</td>\n      <td>0</td>\n      <td>0</td>\n      <td>0</td>\n      <td>0</td>\n      <td>0</td>\n      <td>0</td>\n      <td>0</td>\n      <td>0</td>\n      <td>0</td>\n      <td>0</td>\n      <td>0</td>\n      <td>0</td>\n      <td>0</td>\n      <td>0</td>\n      <td>1</td>\n      <td>0</td>\n    </tr>\n    <tr>\n      <th>1</th>\n      <td>162</td>\n      <td>4528</td>\n      <td>0</td>\n      <td>0</td>\n      <td>0</td>\n      <td>0</td>\n      <td>0</td>\n      <td>1</td>\n      <td>0</td>\n      <td>0</td>\n      <td>0</td>\n      <td>0</td>\n      <td>0</td>\n      <td>0</td>\n      <td>0</td>\n      <td>0</td>\n      <td>0</td>\n      <td>0</td>\n      <td>2</td>\n      <td>2</td>\n      <td>0.0</td>\n      <td>0.0</td>\n      <td>0.0</td>\n      <td>0.0</td>\n      <td>1.0</td>\n      <td>0.0</td>\n      <td>0.0</td>\n      <td>1</td>\n      <td>1</td>\n      <td>1.0</td>\n      <td>0.0</td>\n      <td>1.00</td>\n      <td>0.0</td>\n      <td>0.0</td>\n      <td>0.0</td>\n      <td>0.0</td>\n      <td>0.0</td>\n      <td>normal.</td>\n      <td>0</td>\n      <td>1</td>\n      <td>0</td>\n      <td>0</td>\n      <td>0</td>\n      <td>0</td>\n      <td>0</td>\n      <td>0</td>\n      <td>0</td>\n      <td>0</td>\n      <td>0</td>\n      <td>0</td>\n      <td>...</td>\n      <td>0</td>\n      <td>0</td>\n      <td>0</td>\n      <td>0</td>\n      <td>0</td>\n      <td>0</td>\n      <td>0</td>\n      <td>0</td>\n      <td>0</td>\n      <td>0</td>\n      <td>0</td>\n      <td>0</td>\n      <td>0</td>\n      <td>0</td>\n      <td>0</td>\n      <td>0</td>\n      <td>0</td>\n      <td>0</td>\n      <td>0</td>\n      <td>0</td>\n      <td>0</td>\n      <td>0</td>\n      <td>0</td>\n      <td>0</td>\n      <td>0</td>\n      <td>0</td>\n      <td>0</td>\n      <td>0</td>\n      <td>0</td>\n      <td>0</td>\n      <td>0</td>\n      <td>0</td>\n      <td>0</td>\n      <td>0</td>\n      <td>0</td>\n      <td>0</td>\n      <td>0</td>\n      <td>0</td>\n      <td>0</td>\n      <td>0</td>\n      <td>0</td>\n      <td>0</td>\n      <td>0</td>\n      <td>0</td>\n      <td>0</td>\n      <td>0</td>\n      <td>0</td>\n      <td>0</td>\n      <td>1</td>\n      <td>0</td>\n    </tr>\n    <tr>\n      <th>2</th>\n      <td>236</td>\n      <td>1228</td>\n      <td>0</td>\n      <td>0</td>\n      <td>0</td>\n      <td>0</td>\n      <td>0</td>\n      <td>1</td>\n      <td>0</td>\n      <td>0</td>\n      <td>0</td>\n      <td>0</td>\n      <td>0</td>\n      <td>0</td>\n      <td>0</td>\n      <td>0</td>\n      <td>0</td>\n      <td>0</td>\n      <td>1</td>\n      <td>1</td>\n      <td>0.0</td>\n      <td>0.0</td>\n      <td>0.0</td>\n      <td>0.0</td>\n      <td>1.0</td>\n      <td>0.0</td>\n      <td>0.0</td>\n      <td>2</td>\n      <td>2</td>\n      <td>1.0</td>\n      <td>0.0</td>\n      <td>0.50</td>\n      <td>0.0</td>\n      <td>0.0</td>\n      <td>0.0</td>\n      <td>0.0</td>\n      <td>0.0</td>\n      <td>normal.</td>\n      <td>0</td>\n      <td>1</td>\n      <td>0</td>\n      <td>0</td>\n      <td>0</td>\n      <td>0</td>\n      <td>0</td>\n      <td>0</td>\n      <td>0</td>\n      <td>0</td>\n      <td>0</td>\n      <td>0</td>\n      <td>...</td>\n      <td>0</td>\n      <td>0</td>\n      <td>0</td>\n      <td>0</td>\n      <td>0</td>\n      <td>0</td>\n      <td>0</td>\n      <td>0</td>\n      <td>0</td>\n      <td>0</td>\n      <td>0</td>\n      <td>0</td>\n      <td>0</td>\n      <td>0</td>\n      <td>0</td>\n      <td>0</td>\n      <td>0</td>\n      <td>0</td>\n      <td>0</td>\n      <td>0</td>\n      <td>0</td>\n      <td>0</td>\n      <td>0</td>\n      <td>0</td>\n      <td>0</td>\n      <td>0</td>\n      <td>0</td>\n      <td>0</td>\n      <td>0</td>\n      <td>0</td>\n      <td>0</td>\n      <td>0</td>\n      <td>0</td>\n      <td>0</td>\n      <td>0</td>\n      <td>0</td>\n      <td>0</td>\n      <td>0</td>\n      <td>0</td>\n      <td>0</td>\n      <td>0</td>\n      <td>0</td>\n      <td>0</td>\n      <td>0</td>\n      <td>0</td>\n      <td>0</td>\n      <td>0</td>\n      <td>0</td>\n      <td>1</td>\n      <td>0</td>\n    </tr>\n    <tr>\n      <th>3</th>\n      <td>233</td>\n      <td>2032</td>\n      <td>0</td>\n      <td>0</td>\n      <td>0</td>\n      <td>0</td>\n      <td>0</td>\n      <td>1</td>\n      <td>0</td>\n      <td>0</td>\n      <td>0</td>\n      <td>0</td>\n      <td>0</td>\n      <td>0</td>\n      <td>0</td>\n      <td>0</td>\n      <td>0</td>\n      <td>0</td>\n      <td>2</td>\n      <td>2</td>\n      <td>0.0</td>\n      <td>0.0</td>\n      <td>0.0</td>\n      <td>0.0</td>\n      <td>1.0</td>\n      <td>0.0</td>\n      <td>0.0</td>\n      <td>3</td>\n      <td>3</td>\n      <td>1.0</td>\n      <td>0.0</td>\n      <td>0.33</td>\n      <td>0.0</td>\n      <td>0.0</td>\n      <td>0.0</td>\n      <td>0.0</td>\n      <td>0.0</td>\n      <td>normal.</td>\n      <td>0</td>\n      <td>1</td>\n      <td>0</td>\n      <td>0</td>\n      <td>0</td>\n      <td>0</td>\n      <td>0</td>\n      <td>0</td>\n      <td>0</td>\n      <td>0</td>\n      <td>0</td>\n      <td>0</td>\n      <td>...</td>\n      <td>0</td>\n      <td>0</td>\n      <td>0</td>\n      <td>0</td>\n      <td>0</td>\n      <td>0</td>\n      <td>0</td>\n      <td>0</td>\n      <td>0</td>\n      <td>0</td>\n      <td>0</td>\n      <td>0</td>\n      <td>0</td>\n      <td>0</td>\n      <td>0</td>\n      <td>0</td>\n      <td>0</td>\n      <td>0</td>\n      <td>0</td>\n      <td>0</td>\n      <td>0</td>\n      <td>0</td>\n      <td>0</td>\n      <td>0</td>\n      <td>0</td>\n      <td>0</td>\n      <td>0</td>\n      <td>0</td>\n      <td>0</td>\n      <td>0</td>\n      <td>0</td>\n      <td>0</td>\n      <td>0</td>\n      <td>0</td>\n      <td>0</td>\n      <td>0</td>\n      <td>0</td>\n      <td>0</td>\n      <td>0</td>\n      <td>0</td>\n      <td>0</td>\n      <td>0</td>\n      <td>0</td>\n      <td>0</td>\n      <td>0</td>\n      <td>0</td>\n      <td>0</td>\n      <td>0</td>\n      <td>1</td>\n      <td>0</td>\n    </tr>\n    <tr>\n      <th>4</th>\n      <td>239</td>\n      <td>486</td>\n      <td>0</td>\n      <td>0</td>\n      <td>0</td>\n      <td>0</td>\n      <td>0</td>\n      <td>1</td>\n      <td>0</td>\n      <td>0</td>\n      <td>0</td>\n      <td>0</td>\n      <td>0</td>\n      <td>0</td>\n      <td>0</td>\n      <td>0</td>\n      <td>0</td>\n      <td>0</td>\n      <td>3</td>\n      <td>3</td>\n      <td>0.0</td>\n      <td>0.0</td>\n      <td>0.0</td>\n      <td>0.0</td>\n      <td>1.0</td>\n      <td>0.0</td>\n      <td>0.0</td>\n      <td>4</td>\n      <td>4</td>\n      <td>1.0</td>\n      <td>0.0</td>\n      <td>0.25</td>\n      <td>0.0</td>\n      <td>0.0</td>\n      <td>0.0</td>\n      <td>0.0</td>\n      <td>0.0</td>\n      <td>normal.</td>\n      <td>0</td>\n      <td>1</td>\n      <td>0</td>\n      <td>0</td>\n      <td>0</td>\n      <td>0</td>\n      <td>0</td>\n      <td>0</td>\n      <td>0</td>\n      <td>0</td>\n      <td>0</td>\n      <td>0</td>\n      <td>...</td>\n      <td>0</td>\n      <td>0</td>\n      <td>0</td>\n      <td>0</td>\n      <td>0</td>\n      <td>0</td>\n      <td>0</td>\n      <td>0</td>\n      <td>0</td>\n      <td>0</td>\n      <td>0</td>\n      <td>0</td>\n      <td>0</td>\n      <td>0</td>\n      <td>0</td>\n      <td>0</td>\n      <td>0</td>\n      <td>0</td>\n      <td>0</td>\n      <td>0</td>\n      <td>0</td>\n      <td>0</td>\n      <td>0</td>\n      <td>0</td>\n      <td>0</td>\n      <td>0</td>\n      <td>0</td>\n      <td>0</td>\n      <td>0</td>\n      <td>0</td>\n      <td>0</td>\n      <td>0</td>\n      <td>0</td>\n      <td>0</td>\n      <td>0</td>\n      <td>0</td>\n      <td>0</td>\n      <td>0</td>\n      <td>0</td>\n      <td>0</td>\n      <td>0</td>\n      <td>0</td>\n      <td>0</td>\n      <td>0</td>\n      <td>0</td>\n      <td>0</td>\n      <td>0</td>\n      <td>0</td>\n      <td>1</td>\n      <td>0</td>\n    </tr>\n  </tbody>\n</table>\n<p>5 rows × 122 columns</p>\n</div>"
     },
     "metadata": {},
     "execution_count": 215
    }
   ],
   "source": [
    "df.head()"
   ]
  },
  {
   "cell_type": "code",
   "execution_count": 216,
   "metadata": {},
   "outputs": [],
   "source": [
    "X_df = df.drop(41, axis=1)\n",
    "y_df = df[41]"
   ]
  },
  {
   "cell_type": "code",
   "execution_count": 217,
   "metadata": {},
   "outputs": [],
   "source": [
    "X = X_df.values\n",
    "y = y_df.values"
   ]
  },
  {
   "cell_type": "code",
   "execution_count": 218,
   "metadata": {},
   "outputs": [],
   "source": [
    "df_smp = df.sample(n=100000)"
   ]
  },
  {
   "cell_type": "code",
   "execution_count": 219,
   "metadata": {},
   "outputs": [
    {
     "output_type": "execute_result",
     "data": {
      "text/plain": "100000"
     },
     "metadata": {},
     "execution_count": 219
    }
   ],
   "source": [
    "len(df_smp)"
   ]
  },
  {
   "cell_type": "code",
   "execution_count": 220,
   "metadata": {},
   "outputs": [],
   "source": [
    "X_smp = df_smp.drop(41, axis=1).values\n",
    "y_smp = df_smp.loc[:, 41].values"
   ]
  },
  {
   "cell_type": "code",
   "execution_count": 221,
   "metadata": {},
   "outputs": [],
   "source": [
    "y_smp = np.array([ 1 if yi != \"normal.\" else 0 for yi in y_smp])"
   ]
  },
  {
   "cell_type": "code",
   "execution_count": 230,
   "metadata": {},
   "outputs": [],
   "source": [
    "sample_index = np.random.choice(np.arange(len(X_smp)), 10)"
   ]
  },
  {
   "cell_type": "code",
   "execution_count": 231,
   "metadata": {},
   "outputs": [],
   "source": [
    "X_subsmp = X_smp[sample_index]\n",
    "y_subsmp = y_smp[sample_index]"
   ]
  },
  {
   "cell_type": "code",
   "execution_count": 232,
   "metadata": {},
   "outputs": [],
   "source": [
    "rf = RandomForestClassifier()"
   ]
  },
  {
   "cell_type": "code",
   "execution_count": 233,
   "metadata": {},
   "outputs": [
    {
     "output_type": "execute_result",
     "data": {
      "text/plain": "RandomForestClassifier()"
     },
     "metadata": {},
     "execution_count": 233
    }
   ],
   "source": [
    "rf.fit(X_subsmp, y_subsmp)"
   ]
  },
  {
   "cell_type": "code",
   "execution_count": 234,
   "metadata": {},
   "outputs": [],
   "source": [
    "predict = rf.predict(X_smp)"
   ]
  },
  {
   "cell_type": "code",
   "execution_count": 235,
   "metadata": {},
   "outputs": [],
   "source": [
    "roc_auc = roc_auc_score(predict, y_smp)"
   ]
  },
  {
   "cell_type": "code",
   "execution_count": 236,
   "metadata": {
    "tags": []
   },
   "outputs": [
    {
     "output_type": "stream",
     "name": "stdout",
     "text": "0回目 96.309%\n"
    }
   ],
   "source": [
    "print(f\"0回目 {roc_auc*100.0:.05}%\")"
   ]
  },
  {
   "cell_type": "code",
   "execution_count": 237,
   "metadata": {
    "tags": []
   },
   "outputs": [
    {
     "output_type": "stream",
     "name": "stdout",
     "text": "1回目 99.699%, ラベリングしたデータ数 111\n2回目 99.796%, ラベリングしたデータ数 212\n3回目 99.873%, ラベリングしたデータ数 313\n"
    }
   ],
   "source": [
    "total_labeled = 10\n",
    "for ite in range(3):\n",
    "    proba = rf.predict_proba(X_smp)[:, 1]\n",
    "    mlp = []\n",
    "    llp = []\n",
    "    mln = []\n",
    "    lln = []\n",
    "    for i, (x, pi, probi, y) in enumerate(zip(X_smp, predict, proba, y_smp)):\n",
    "        if pi == 1 and probi >= 0.9:\n",
    "            mlp += [i]\n",
    "        elif pi == 1 and probi < 0.9:\n",
    "            llp += [i]\n",
    "        elif pi == 0 and probi <= 0.1:\n",
    "            mln += [i]\n",
    "        elif pi == 0 and probi > 0.1:\n",
    "            lln += [i]\n",
    "    new_X = X_smp[mlp]\n",
    "    new_y = [1] * len(mlp)\n",
    "\n",
    "    new_X = np.concatenate([new_X, X_smp[mln]], 0)\n",
    "    new_y = np.concatenate([new_y, [0]*len(mln)], 0)\n",
    "\n",
    "    # human check\n",
    "    tmp_anomaly = []\n",
    "    tmp_nominal = []\n",
    "    for i in llp[:100]:\n",
    "        if y_smp[i] == 1:\n",
    "            tmp_anomaly += [i]\n",
    "        else:\n",
    "            tmp_nominal += [i]\n",
    "        total_labeled += 1\n",
    "\n",
    "    new_X = np.concatenate([new_X, X_smp[tmp_anomaly]], 0)\n",
    "    new_y = np.concatenate([new_y, [1]*len(tmp_anomaly)], 0)\n",
    "\n",
    "    new_X = np.concatenate([new_X, X_smp[tmp_nominal]], 0)\n",
    "    new_y = np.concatenate([new_y, [0]*len(tmp_nominal)], 0)\n",
    "\n",
    "    # human checkl\n",
    "    tmp_anomaly = []\n",
    "    tmp_nominal = []\n",
    "    for i in lln[:100]:\n",
    "        if y_smp[i] == 1:\n",
    "            tmp_anomaly += [i]\n",
    "        else:\n",
    "            tmp_nominal += [i]\n",
    "    total_labeled += 1\n",
    "\n",
    "    new_X = np.concatenate([new_X, X_smp[tmp_anomaly]], 0)\n",
    "    new_y = np.concatenate([new_y, [1]*len(tmp_anomaly)], 0)\n",
    "\n",
    "    new_X = np.concatenate([new_X, X_smp[tmp_nominal]], 0)\n",
    "    new_y = np.concatenate([new_y, [0]*len(tmp_nominal)], 0)\n",
    "\n",
    "    rf = RandomForestClassifier()\n",
    "    rf.fit(new_X, new_y)\n",
    "    predict = rf.predict(X_smp)\n",
    "    roc_auc = roc_auc_score(predict, y_smp)\n",
    "\n",
    "    print(f\"{ite+1}回目 {roc_auc*100:.05}%, ラベリングしたデータ数 {total_labeled}\")"
   ]
  },
  {
   "cell_type": "code",
   "execution_count": null,
   "metadata": {},
   "outputs": [],
   "source": []
  },
  {
   "cell_type": "code",
   "execution_count": null,
   "metadata": {},
   "outputs": [],
   "source": []
  }
 ]
}